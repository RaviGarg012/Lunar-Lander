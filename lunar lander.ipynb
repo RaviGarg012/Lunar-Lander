{
 "cells": [
  {
   "cell_type": "markdown",
   "id": "059246a2-77ed-45b4-8b93-e161c005dfdc",
   "metadata": {},
   "source": [
    "# Reinforcement Learning"
   ]
  },
  {
   "cell_type": "markdown",
   "id": "666834c0-8fc0-45c9-87cb-97fb52b6ce5d",
   "metadata": {},
   "source": [
    "## Lunar lander"
   ]
  },
  {
   "cell_type": "markdown",
   "id": "d906095d-9a93-4bbe-a5c1-1b2cde8c311c",
   "metadata": {},
   "source": [
    "#### Liberaries"
   ]
  },
  {
   "cell_type": "code",
   "execution_count": 1,
   "id": "fc661d1e-a31b-45f5-a276-3a780a8157b9",
   "metadata": {},
   "outputs": [],
   "source": [
    "import numpy as np\n",
    "import random\n",
    "import LunarUtils\n",
    "# deque is our data structure for our memory buffer\n",
    "from collections import deque, namedtuple\n",
    "# namedtuple used to store experience tuple"
   ]
  },
  {
   "cell_type": "code",
   "execution_count": 2,
   "id": "e9f2ae34-7d7e-41a6-af94-0c53c2518bb1",
   "metadata": {},
   "outputs": [],
   "source": [
    "import gymnasium as gym\n",
    "# gym is environment liberary used in reinforcement to test the reinforcement learning algorithm\n",
    "import time"
   ]
  },
  {
   "cell_type": "code",
   "execution_count": 3,
   "id": "d953b7fb-0fd6-41de-803a-09364ae80cb9",
   "metadata": {},
   "outputs": [],
   "source": [
    "# PIL and pyvirtualdisplay used to render the lunar lander environment\n",
    "from PIL import Image\n",
    "from pyvirtualdisplay import Display"
   ]
  },
  {
   "cell_type": "code",
   "execution_count": 4,
   "id": "24ad8a76-7062-4c0e-98fa-95879ce11f03",
   "metadata": {},
   "outputs": [],
   "source": [
    "# tensorflow liberaries for the neural network\n",
    "import tensorflow as tf\n",
    "from tensorflow.keras import Sequential\n",
    "from tensorflow.keras.layers import Dense, Input\n",
    "from tensorflow.keras.losses import MSE\n",
    "from tensorflow.keras.optimizers import Adam"
   ]
  },
  {
   "cell_type": "code",
   "execution_count": 5,
   "id": "c84b6dd0-03b5-4f40-8637-ced814032426",
   "metadata": {},
   "outputs": [],
   "source": [
    "# set the virtual display for lunar lander environment\n",
    "# Display(visible=0, size=(840, 480)).start();\n",
    "# set the random seed for tensorflow\n",
    "tf.random.set_seed(42)"
   ]
  },
  {
   "cell_type": "code",
   "execution_count": 6,
   "id": "d88489ef-a5ef-4280-ac1e-1136de3b7ab0",
   "metadata": {},
   "outputs": [],
   "source": [
    "# set the hyperparameter values used for reinforcement environment\n",
    "MEMORY_SIZE = 100_000 # size of memory buffer\n",
    "GAMMA = 0.995 # discount factor\n",
    "ALPHA = 1e-3 # learning rate\n",
    "TAU = 1e-3 # soft update\n",
    "NUM_STEP_FOR_UPDATE = 4 # perform a learning step after c time"
   ]
  },
  {
   "cell_type": "markdown",
   "id": "7770988a-235c-4743-89d8-dedf92638569",
   "metadata": {},
   "source": [
    "#### Lunar lander Environment"
   ]
  },
  {
   "cell_type": "markdown",
   "id": "89bd10de-bca3-4ef6-9c3d-482b3d7ecb8b",
   "metadata": {},
   "source": [
    "> lunar lander can do four actions : 0. do nothing, 1. fire left engine 2. fire main engine 3. fire right engine\n",
    "\n",
    "> the environment considered solved if the lunar lander gets 200 points"
   ]
  },
  {
   "cell_type": "markdown",
   "id": "bdddd019-2ce2-49e1-943a-eeb4e98547d9",
   "metadata": {},
   "source": [
    "#### Observation space\n",
    "\n",
    "agent's observation space contains 8 parameters\n",
    "\n",
    "* (x, y) coordinates in space\n",
    "* $(\\dot x, \\dot y)$ velocity in x and y direction\n",
    "* $\\theta$ angle\n",
    "* $\\dot \\theta$ angular velocity\n",
    "* l and r, which represent that each leg of lunar lender is on the groud or not"
   ]
  },
  {
   "cell_type": "code",
   "execution_count": 7,
   "id": "7c8e8820-438e-4b4e-b2a2-fd75075310e2",
   "metadata": {},
   "outputs": [],
   "source": [
    "# load the environment\n",
    "env = gym.make('LunarLander-v3',  render_mode=\"rgb_array\")"
   ]
  },
  {
   "cell_type": "code",
   "execution_count": 8,
   "id": "fe0053b0-f8cc-42b5-b498-68bcd4e531ee",
   "metadata": {},
   "outputs": [
    {
     "data": {
      "image/jpeg": "[encoded data removed]",
      "image/png": "[encoded data removed]",
      "text/plain": [
       "<PIL.Image.Image image mode=RGB size=600x400>"
      ]
     },
     "execution_count": 8,
     "metadata": {},
     "output_type": "execute_result"
    }
   ],
   "source": [
    "# reset the environment\n",
    "env.reset()\n",
    "# render the first image of the environment\n",
    "Image.fromarray(env.render())"
   ]
  },
  {
   "cell_type": "code",
   "execution_count": 9,
   "id": "142cc4f6-410c-4b9f-af08-ad2c7fedbd51",
   "metadata": {},
   "outputs": [
    {
     "name": "stdout",
     "output_type": "stream",
     "text": [
      "size of state vector:  (8,)\n",
      "no. of actions:  4\n"
     ]
    }
   ],
   "source": [
    "# now get the size of state vector and no. of actions\n",
    "state_size = env.observation_space.shape\n",
    "num_action = env.action_space.n\n",
    "print(\"size of state vector: \", state_size)\n",
    "print(\"no. of actions: \", num_action)"
   ]
  },
  {
   "cell_type": "markdown",
   "id": "8bcb61d9-2f2e-4aa2-a80d-6199585886e9",
   "metadata": {},
   "source": [
    "#### Interacting with gym environment"
   ]
  },
  {
   "cell_type": "markdown",
   "id": "778daf25-8dc0-4240-8345-b2e39a656d2f",
   "metadata": {},
   "source": [
    " `.step()` method in gym liberary take action and return four values\n",
    "\n",
    "* observation : a numpy array containing velocities and position of lunar lander\n",
    "* reward : amount of reward return as result after taking an action\n",
    "* done(boolean) : done return a boolean value if its true then it show that current episode is terminated, reset the environment\n",
    "* info : information use for debugging"
   ]
  },
  {
   "cell_type": "code",
   "execution_count": 10,
   "id": "c8565ee5-ac29-4d7c-be82-4ae56b128bcb",
   "metadata": {},
   "outputs": [],
   "source": [
    "# reset the environment to get the current state\n",
    "current_state = env.reset()"
   ]
  },
  {
   "cell_type": "code",
   "execution_count": 11,
   "id": "76ba6de3-0ecd-415e-a259-4708f26a6d92",
   "metadata": {},
   "outputs": [
    {
     "name": "stdout",
     "output_type": "stream",
     "text": [
      "current state :  (array([ 0.00204124,  1.4213156 ,  0.20674613,  0.46202615, -0.00235855,\n",
      "       -0.046831  ,  0.        ,  0.        ], dtype=float32), {})\n",
      "next state :  [ 0.00408258  1.4311326   0.2064666   0.43630913 -0.00467255 -0.04628339\n",
      "  0.          0.        ]\n",
      "reward :  1.134400110817694\n",
      "done :  False\n"
     ]
    }
   ],
   "source": [
    "# select an action\n",
    "action = 0 # do nothing\n",
    "\n",
    "# on give action run the step function\n",
    "next_state, reward, done, _, _ = env.step(action)\n",
    "\n",
    "# print the obseravation\n",
    "print(\"current state : \", current_state)\n",
    "print(\"next state : \", next_state)\n",
    "print(\"reward : \", reward)\n",
    "print(\"done : \", done)\n",
    "\n",
    "# assign next_state to current state\n",
    "current_state = next_state"
   ]
  },
  {
   "cell_type": "markdown",
   "id": "a6fd708b-0d2f-4f28-afa9-6a1152fad418",
   "metadata": {},
   "source": [
    "### Deep Q-Learning"
   ]
  },
  {
   "cell_type": "markdown",
   "id": "efb33ab0-cb71-449d-8fac-3d71afd71c96",
   "metadata": {},
   "source": [
    "using neural network for the reinforcement learning is highly unstable, but using some technique the unstability can be avoided, these techniques are\n",
    "\n",
    "1. Target Network\n",
    "2. Experience Replay"
   ]
  },
  {
   "cell_type": "markdown",
   "id": "3f8ad566-d234-463b-a914-dd4fb98b7570",
   "metadata": {},
   "source": [
    "#### 1. Target Network"
   ]
  },
  {
   "cell_type": "markdown",
   "id": "9052ced6-1008-40eb-93e7-3a368e0c0b9a",
   "metadata": {},
   "source": [
    "the target y is variable at every iteration, so we need two neural network one for target, and one for output"
   ]
  },
  {
   "cell_type": "code",
   "execution_count": 12,
   "id": "ed5f76a7-e709-4733-b529-78f45771afc2",
   "metadata": {},
   "outputs": [],
   "source": [
    "# Q-network\n",
    "q_network = Sequential([\n",
    "    # input layer\n",
    "    Input(shape=(state_size)),\n",
    "    # first hidden layer\n",
    "    Dense(units=64, activation='relu'),\n",
    "    # second hidden layer\n",
    "    Dense(units=64, activation='relu'),\n",
    "    # output layer\n",
    "    Dense(units=num_action, activation='linear')\n",
    "])\n",
    "\n",
    "# target-Q-network\n",
    "target_q_network = Sequential([\n",
    "    # input layer\n",
    "    Input(shape=(state_size)),\n",
    "    # first hidden layer\n",
    "    Dense(units=64, activation='relu'),\n",
    "    # second hidden layer\n",
    "    Dense(units=64, activation='relu'),\n",
    "    # output layer\n",
    "    Dense(units=num_action, activation='linear')\n",
    "])\n",
    "\n",
    "# cost\n",
    "optimizer = Adam(learning_rate=ALPHA)"
   ]
  },
  {
   "cell_type": "markdown",
   "id": "2aa69f54-38ee-412b-bba0-43380762c717",
   "metadata": {},
   "source": [
    "#### 2. Experience Replay"
   ]
  },
  {
   "cell_type": "markdown",
   "id": "334c7cb5-8f0c-4943-a3b7-245c4af256dd",
   "metadata": {},
   "source": [
    "in experience replay, we store previous obeservations like $(S_t, A_t, R_t, S_{t+1})$ in the memory buffer, after we select the random min batch of experience from the buffer"
   ]
  },
  {
   "cell_type": "code",
   "execution_count": 13,
   "id": "24df991f-a49c-4598-9637-e533f90878eb",
   "metadata": {},
   "outputs": [],
   "source": [
    "# store the experience as name tuple\n",
    "Experience = namedtuple(\"Experience\", field_names = [\"state\", \"action\", \"reward\", \"next_state\", \"done\"])"
   ]
  },
  {
   "cell_type": "markdown",
   "id": "10fbdf1c-a818-4f14-88a7-5f244e4336a3",
   "metadata": {},
   "source": [
    "### Deep Q-Learning with Experience Replay"
   ]
  },
  {
   "cell_type": "code",
   "execution_count": 14,
   "id": "25152e84-d190-4fd7-99ec-134cba1f1a9d",
   "metadata": {},
   "outputs": [],
   "source": [
    "# first compute the loss between y_target and q_value\n",
    "def compute_loss(experiences, gamma, q_network, target_q_network):\n",
    "    '''\n",
    "    # inputs\n",
    "    experiences : namedtuple that contains the experience replay\n",
    "    gamma : discount factor\n",
    "    q_network : keras model to generate q_values\n",
    "    target_q_network : keras model to generate y_target\n",
    "\n",
    "    # output\n",
    "    loss : mean squared error between q_values and y_target\n",
    "    '''\n",
    "\n",
    "    # unpack min batch of experience tuple\n",
    "    states, actions, rewards, next_states, done_vals = experiences\n",
    "\n",
    "    # comput max Q(s, a)\n",
    "    max_qsa = tf.reduce_max(target_q_network(next_states), axis = -1)\n",
    "\n",
    "    # find the y target value\n",
    "    y_target = rewards + (1 - done_vals)*(max_qsa*gamma)\n",
    "\n",
    "    # get the q_values and reshape to match the y_target\n",
    "    q_values = q_network(states)\n",
    "    q_values = tf.gather_nd(q_values, tf.stack([tf.range(q_values.shape[0]),\n",
    "                                                tf.cast(actions, tf.int32)], axis=1))\n",
    "\n",
    "    # compute loss\n",
    "    loss = MSE(q_values, y_target)\n",
    "    return loss"
   ]
  },
  {
   "cell_type": "markdown",
   "id": "64a23504-c9c3-447b-ae2f-c2acc272b176",
   "metadata": {},
   "source": [
    "#### update the network weights"
   ]
  },
  {
   "cell_type": "code",
   "execution_count": 15,
   "id": "80e22274-60fa-4631-b7d4-b7ef3e64c720",
   "metadata": {},
   "outputs": [],
   "source": [
    "# agent learn method update the weights of q_network and target_q_network using custom training loop\n",
    "@tf.function\n",
    "def agent_learn(experience, gamma):\n",
    "    # update the weights of Q network\n",
    "    # calculate the loss\n",
    "    with tf.GradientTape() as tape:\n",
    "        loss = compute_loss(experience, gamma, q_network, target_q_network)\n",
    "\n",
    "    # get the gradient of the loss w.r.t the weights\n",
    "    gradient = tape.gradient(loss, q_network.trainable_variables)\n",
    "\n",
    "    # update the weight of q_network\n",
    "    optimizer.apply_gradients(zip(gradient, q_network.trainable_variables))\n",
    "\n",
    "    # update the weight of target_q_network\n",
    "    for target_weights, q_net_weights in zip(target_q_network.weights, q_network.weights):\n",
    "        target_weights.assign(TAU * q_net_weights + (1.0 - TAU) * target_weights)"
   ]
  },
  {
   "cell_type": "markdown",
   "id": "e53585f9-f70f-42fd-beac-c57e655959ae",
   "metadata": {},
   "source": [
    "### Train the Agent"
   ]
  },
  {
   "cell_type": "code",
   "execution_count": 16,
   "id": "0675f1c2-8d52-4efb-8c24-ba1cedf86800",
   "metadata": {
    "scrolled": true
   },
   "outputs": [
    {
     "name": "stdout",
     "output_type": "stream",
     "text": [
      "Episode 100 | Total point average of the last 100 episodes: -166.78\n",
      "Episode 200 | Total point average of the last 100 episodes: -93.311\n",
      "Episode 300 | Total point average of the last 100 episodes: -29.69\n",
      "Episode 400 | Total point average of the last 100 episodes: 76.585\n",
      "Episode 500 | Total point average of the last 100 episodes: 134.78\n",
      "Episode 600 | Total point average of the last 100 episodes: 185.37\n",
      "Episode 630 | Total point average of the last 100 episodes: 198.47"
     ]
    },
    {
     "name": "stderr",
     "output_type": "stream",
     "text": [
      "WARNING:absl:You are saving your model as an HDF5 file via `model.save()` or `keras.saving.save_model(model)`. This file format is considered legacy. We recommend using instead the native Keras format, e.g. `model.save('my_model.keras')` or `keras.saving.save_model(model, 'my_model.keras')`. \n"
     ]
    },
    {
     "name": "stdout",
     "output_type": "stream",
     "text": [
      "Episode 631 | Total point average of the last 100 episodes: 201.23\n",
      "\n",
      "Environment solved in 631 episodes!\n",
      "\n",
      "Total Runtime: 1720.22 s (28.67 min)\n"
     ]
    }
   ],
   "source": [
    "start = time.time()\n",
    "\n",
    "# number of episodes\n",
    "num_episodes = 2000\n",
    "# max number of steps a agent can take during an episode\n",
    "max_num_timestamps = 1000\n",
    "# store the history of points rewards\n",
    "total_point_history = []\n",
    "\n",
    "# min batch size\n",
    "MINIBATCH_SIZE = 64\n",
    "# number of total points use for averaging\n",
    "num_p_av = 100\n",
    "# initialize Epsilon for E-greedy policy\n",
    "epsilon = 1.0\n",
    "\n",
    "# create  a memory buffer\n",
    "memory_buffer = deque(maxlen = MEMORY_SIZE)\n",
    "\n",
    "# set the target_q_network weights\n",
    "target_q_network.set_weights(q_network.get_weights())\n",
    "\n",
    "for i in range(num_episodes):\n",
    "    # reset the environment state\n",
    "    state = env.reset()[0]\n",
    "    total_points = 0\n",
    "\n",
    "    for t in range(max_num_timestamps):\n",
    "        # from the current state S choose the action A using e greedy policy\n",
    "        state_q = np.expand_dims(state, axis = 0)\n",
    "        q_values = q_network(state_q)\n",
    "        if random.random() > epsilon:\n",
    "            action = np.argmax(q_values.numpy()[0])\n",
    "        else:\n",
    "            action = random.choice(list(np.arange(4)))\n",
    "\n",
    "        # step method to get the observation\n",
    "        next_state, reward, done, _, _ = env.step(action)\n",
    "\n",
    "        # store the experience tuple in the memory_buffer\n",
    "        memory_buffer.append(Experience(state, action, reward, next_state, done))\n",
    "\n",
    "        # update the nework\n",
    "        if (t + 1) % NUM_STEP_FOR_UPDATE == 0 and len(memory_buffer) > MINIBATCH_SIZE:\n",
    "            # sample random mini batch experience from memory_buffer\n",
    "            experience = LunarUtils.get_experiences(memory_buffer)\n",
    "            # set the y_target and update the weights\n",
    "            agent_learn(experience, GAMMA)\n",
    "\n",
    "        # copy the next state to current\n",
    "        state = next_state.copy()\n",
    "        total_points += reward\n",
    "        \n",
    "        # Live render every 100 episodes\n",
    "        if i % 100 == 0:\n",
    "            env.render()\n",
    "            time.sleep(0.01)  # Adjust speed of rendering\n",
    "            \n",
    "        # if done is true then break\n",
    "        if done:\n",
    "            break\n",
    "    total_point_history.append(total_points)\n",
    "    av_latest_points = np.mean(total_point_history[-num_p_av:])\n",
    "    \n",
    "    # Update the ε value\n",
    "    epsilon = LunarUtils.get_new_eps(epsilon)\n",
    "\n",
    "    print(f\"\\rEpisode {i+1} | Total point average of the last {num_p_av} episodes: {av_latest_points:.2f}\", end=\"\")\n",
    "\n",
    "    if (i+1) % num_p_av == 0:\n",
    "        print(f\"\\rEpisode {i+1} | Total point average of the last {num_p_av} episodes: {av_latest_points:.2f}\")\n",
    "\n",
    "    # consider that the environment is solved if we get an\n",
    "    # average of 200 points in the last 100 episodes.\n",
    "    if av_latest_points >= 200.0:\n",
    "        print(f\"\\n\\nEnvironment solved in {i+1} episodes!\")\n",
    "        q_network.save('lunar_lander_model.h5')\n",
    "        break\n",
    "        \n",
    "tot_time = time.time() - start\n",
    "\n",
    "print(f\"\\nTotal Runtime: {tot_time:.2f} s ({(tot_time/60):.2f} min)\")"
   ]
  },
  {
   "cell_type": "markdown",
   "id": "2994245a-2dc0-49a7-9460-0c909c5494d2",
   "metadata": {},
   "source": [
    "### See the trained Agent In action"
   ]
  },
  {
   "cell_type": "code",
   "execution_count": 63,
   "id": "7dce4578-ae2f-478e-b53f-d608790b7242",
   "metadata": {
    "scrolled": true
   },
   "outputs": [
    {
     "name": "stdout",
     "output_type": "stream",
     "text": [
      "Episode 1 finished with Total Reward: 246.03\n",
      "Episode 2 finished with Total Reward: 66.74\n",
      "Episode 3 finished with Total Reward: -2.68\n",
      "Episode 4 finished with Total Reward: 1.59\n",
      "Episode 5 finished with Total Reward: 0.90\n",
      "Episode 6 finished with Total Reward: -0.64\n",
      "Episode 7 finished with Total Reward: -0.17\n",
      "Episode 8 finished with Total Reward: 0.98\n",
      "Episode 9 finished with Total Reward: -0.35\n",
      "Episode 10 finished with Total Reward: -1.60\n",
      "Episode 11 finished with Total Reward: 0.15\n",
      "Episode 12 finished with Total Reward: 0.16\n",
      "Episode 13 finished with Total Reward: -0.02\n",
      "Episode 14 finished with Total Reward: -1.88\n",
      "Episode 15 finished with Total Reward: 1.55\n",
      "Episode 16 finished with Total Reward: 0.89\n",
      "Episode 17 finished with Total Reward: 1.19\n",
      "Episode 18 finished with Total Reward: -0.22\n",
      "Episode 19 finished with Total Reward: -0.89\n",
      "Episode 20 finished with Total Reward: -1.12\n"
     ]
    }
   ],
   "source": [
    "# using open cv to rendering the agent interacting with environment\n",
    "import cv2\n",
    "\n",
    "# Create the Lunar Lander environment\n",
    "env = gym.make(\"LunarLander-v3\", render_mode=\"rgb_array\")\n",
    "\n",
    "num_episodes = 20  # Change this to run more episodes\n",
    "for episode in range(num_episodes):\n",
    "    state, _ = env.reset()\n",
    "    done = False\n",
    "    total_reward = 0\n",
    "\n",
    "    while not done:\n",
    "        state_q = np.expand_dims(state, axis = 0)\n",
    "        q_values = q_network(state_q)\n",
    "        action = np.argmax(q_values.numpy()[0]) \n",
    "        state, reward, done, _, _ = env.step(action)\n",
    "        total_reward += reward\n",
    "\n",
    "        # Render the frame\n",
    "        frame = env.render()\n",
    "        frame = cv2.cvtColor(frame, cv2.COLOR_RGB2BGR)  # Convert RGB to BGR (OpenCV format)\n",
    "\n",
    "        # Display the frame\n",
    "        cv2.imshow(\"Lunar Lander - performance\", frame)\n",
    "        \n",
    "        if cv2.waitKey(10) & 0xFF == ord(\"q\"):  # Press 'q' to quit\n",
    "            break\n",
    "\n",
    "    print(f\"Episode {episode + 1} finished with Total Reward: {total_reward:.2f}\")\n",
    "    time.sleep(1)  # Pause before the next episode\n",
    "\n",
    "# Close the OpenCV window and environment\n",
    "env.close()\n",
    "cv2.destroyAllWindows()\n"
   ]
  },
  {
   "cell_type": "code",
   "execution_count": null,
   "id": "b6dc7b56-3f9a-4bce-aee4-8494d18b3644",
   "metadata": {},
   "outputs": [],
   "source": []
  }
 ],
 "metadata": {
  "kernelspec": {
   "display_name": "Python 3 (ipykernel)",
   "language": "python",
   "name": "python3"
  },
  "language_info": {
   "codemirror_mode": {
    "name": "ipython",
    "version": 3
   },
   "file_extension": ".py",
   "mimetype": "text/x-python",
   "name": "python",
   "nbconvert_exporter": "python",
   "pygments_lexer": "ipython3",
   "version": "3.11.0"
  }
 },
 "nbformat": 4,
 "nbformat_minor": 5
}
